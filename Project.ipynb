{
 "cells": [
  {
   "cell_type": "code",
   "execution_count": null,
   "metadata": {},
   "outputs": [],
   "source": [
    "import pandas as pd \n",
    "import os\n",
    "import json\n",
    "import numpy as np\n",
    "import matplotlib.pyplot as plt"
   ]
  },
  {
   "cell_type": "code",
   "execution_count": null,
   "metadata": {},
   "outputs": [],
   "source": [
    "data = pd.read_csv('merged.csv')"
   ]
  },
  {
   "cell_type": "code",
   "execution_count": null,
   "metadata": {},
   "outputs": [],
   "source": [
    "num_nans = data.isna().sum().sum()\n",
    "print(num_nans)\n"
   ]
  },
  {
   "cell_type": "code",
   "execution_count": null,
   "metadata": {},
   "outputs": [],
   "source": [
    "data.columns"
   ]
  },
  {
   "cell_type": "code",
   "execution_count": null,
   "metadata": {},
   "outputs": [],
   "source": [
    "selected_cols = [\"MidTime\",\"Timestamp\",\"ID\",\"Location\",\"Productivity\",\"Mood\",\"Stress\",\"Average_lux_30s\",\"Average_spl_a_30s\",\"Average_score_30s\",\"Average_temp_30s\",\"Average_humid_30s\",\"Average_co2_30s\",\"Average_voc_30s\",\"Average_pm10_est_30s\",\"Average_pm25_30s\",\n",
    "                \"Average_spl_a_30s_(below_50_dB)\",\"Average_spl_a_30s_(above_50_dB)\",\"Average_temp_30s_(below_22C)\",\"Average_temp_30s_(above_22C)\",\"Average_humid_30s_(below_45%)\",\"Average_humid_30s_(above_45%)\",\n",
    "                \"Average_lux_60s\",\"Average_spl_a_60s\",\"Average_score_60s\",\"Average_temp_60s\",\"Average_humid_60s\",\"Average_co2_60s\",\"Average_voc_60s\",\"Average_pm10_est_60s\",\"Average_pm25_60s\",      \n",
    "                \"Average_spl_a_60s_(below_50_dB)\",\"Average_spl_a_60s_(above_50_dB)\",\"Average_temp_60s_(below_22C)\",\"Average_temp_60s_(above_22C)\",\"Average_humid_60s_(below_45%)\",\"Average_humid_60s_(above_45%)\",\n",
    "                \"Average_lux_120s\",'Average_spl_a_120s',\"Average_score_120s\",\"Average_temp_120s\",'Average_humid_120s',\"Average_co2_120s\",\"Average_voc_120s\",\"Average_pm10_est_120s\",\"Average_pm25_120s\",           \n",
    "                \"Average_spl_a_120s_(below_50_dB)\",\"Average_spl_a_120s_(above_50_dB)\",\"Average_temp_120s_(below_22C)\",\"Average_temp_120s_(above_22C)\",\"Average_humid_120s_(below_45%)\",\"Average_humid_120s_(above_45%)\",\n",
    "                \"Average_lux_300s\",\"Average_spl_a_300s\",\"Average_score_300s\",\"Average_temp_300s\",\"Average_humid_300s\",\"Average_co2_300s\",\"Average_voc_300s\",\"Average_pm10_est_300s\",\"Average_pm25_300s\",\n",
    "                \"Average_spl_a_300s_(below_50_dB)\",\"Average_spl_a_300s_(above_50_dB)\",\"Average_temp_300s_(below_22C)\",\"Average_temp_300s_(above_22C)\",\"Average_humid_300s_(below_45%)\",\"Average_humid_300s_(above_45%)\",\n",
    "                \"Average_lux_600s\",\"Average_spl_a_600s\",\"Average_score_600s\",\"Average_temp_600s\",\"Average_humid_600s\",\"Average_co2_600s\",\"Average_voc_600s\",\"Average_pm10_est_600s\",\"Average_pm25_600s\",\n",
    "                \"Average_spl_a_600s_(below_50_dB)\",\"Average_spl_a_600s_(above_50_dB)\",\"Average_temp_600s_(below_22C)\",\"Average_temp_600s_(above_22C)\",\"Average_humid_600s_(below_45%)\",\"Average_humid_600s_(above_45%)\",\n",
    "                \"Average_lux_1800s\",\"Average_spl_a_1800s\",\"Average_score_1800s\",\"Average_temp_1800s\",\"Average_humid_1800s\",\"Average_co2_1800s\",\"Average_voc_1800s\",\"Average_pm10_est_1800s\",\"Average_pm25_1800s\",\n",
    "                \"Average_spl_a_1800s_(below_50_dB)\",\"Average_spl_a_1800s_(above_50_dB)\",\"Average_temp_1800s_(below_22C)\",\"Average_temp_1800s_(above_22C)\",\"Average_humid_1800s_(below_45%)\",\"Average_humid_1800s_(above_45%)\",\n",
    "                \"Average_lux_3600s\",\"Average_spl_a_3600s\",\"Average_score_3600s\",\"Average_temp_3600s\",\"Average_humid_3600s\",\"Average_co2_3600s\",\"Average_voc_3600s\",\"Average_pm10_est_3600s\",\"Average_pm25_3600s\",\n",
    "                \"Average_spl_a_3600s_(below_50_dB)\",\"Average_spl_a_3600s_(above_50_dB)\",\"Average_temp_3600s_(below_22C)\",\"Average_temp_3600s_(above_22C)\",\"Average_humid_3600s_(below_45%)\",\"Average_humid_3600s_(above_45%)\",\n",
    "                \"Average_lux_7200s\",\"Average_spl_a_7200s\",\"Average_score_7200s\",\"Average_temp_7200s\",\"Average_humid_7200s\",\"Average_co2_7200s\",\"Average_voc_7200s\",\"Average_pm10_est_7200s\",\"Average_pm25_7200s\",\n",
    "                \"Average_spl_a_7200s_(below_50_dB)\",\"Average_spl_a_7200s_(above_50_dB)\",\"Average_temp_7200s_(below_22C)\",\"Average_temp_7200s_(above_22C)\",\"Average_humid_7200s_(below_45%)\",\"Average_humid_7200s_(above_45%)\",\n",
    "                 ]\n",
    "data = data[selected_cols]"
   ]
  },
  {
   "cell_type": "code",
   "execution_count": null,
   "metadata": {},
   "outputs": [],
   "source": [
    "data"
   ]
  },
  {
   "cell_type": "code",
   "execution_count": null,
   "metadata": {},
   "outputs": [],
   "source": [
    "num_nans = data.isna().sum().sum()\n",
    "print(num_nans)\n"
   ]
  },
  {
   "cell_type": "code",
   "execution_count": null,
   "metadata": {},
   "outputs": [],
   "source": [
    "data.describe()"
   ]
  },
  {
   "cell_type": "code",
   "execution_count": null,
   "metadata": {},
   "outputs": [],
   "source": [
    "data = data.fillna(method='ffill').fillna(method='bfill')\n"
   ]
  },
  {
   "cell_type": "code",
   "execution_count": null,
   "metadata": {},
   "outputs": [],
   "source": [
    "data.describe()"
   ]
  },
  {
   "cell_type": "code",
   "execution_count": null,
   "metadata": {},
   "outputs": [],
   "source": [
    "data[\"Timestamp\"] = pd.to_datetime(data[\"Timestamp\"])"
   ]
  },
  {
   "cell_type": "code",
   "execution_count": null,
   "metadata": {},
   "outputs": [],
   "source": [
    "data.dtypes"
   ]
  },
  {
   "cell_type": "code",
   "execution_count": null,
   "metadata": {},
   "outputs": [],
   "source": [
    "import datetime\n",
    "\n",
    "data['Day'] = data['Timestamp'].apply(lambda x: x.strftime('%Y-%m-%d'))\n"
   ]
  },
  {
   "cell_type": "code",
   "execution_count": null,
   "metadata": {},
   "outputs": [],
   "source": [
    "import json\n",
    "\n",
    "def calculate_sma(data, window):\n",
    "    sma_features = []\n",
    "    for i in range(len(data)):\n",
    "        if i < window:\n",
    "            sma = np.mean(data[:i+1])\n",
    "        else:\n",
    "            sma = np.mean(data[i-window+1:i+1])\n",
    "        sma_features.append(sma)\n",
    "    return sma_features\n",
    "\n",
    "def get_hr_data(path):\n",
    "    with open(path) as file:\n",
    "        data = json.load(file)\n",
    "    data = data['activities-heart-intraday'][\"dataset\"]\n",
    "    data = pd.DataFrame(data)\n",
    "    if data.empty:\n",
    "        raise ValueError(\"No data found in the file\")\n",
    "    data[\"sma_5\"] = calculate_sma(data[\"value\"], 5)\n",
    "    data[\"sma_10\"] = calculate_sma(data[\"value\"], 10)\n",
    "    data[\"sma_15\"] = calculate_sma(data[\"value\"], 15)\n",
    "    data[\"sma_30\"] = calculate_sma(data[\"value\"], 30)\n",
    "    data[\"sma_60\"] = calculate_sma(data[\"value\"], 60)\n",
    "    data[\"sma_120\"] = calculate_sma(data[\"value\"], 120)\n",
    "    data[\"sma_300\"] = calculate_sma(data[\"value\"], 300)\n",
    "    data = data.to_numpy()\n",
    "    return data"
   ]
  },
  {
   "cell_type": "code",
   "execution_count": null,
   "metadata": {},
   "outputs": [],
   "source": [
    "def get_hr_path(x):\n",
    "    t = x[\"Timestamp\"].strftime('%Y-%m-%d')\n",
    "    fname = t+'_hr.json'\n",
    "    tid = x[\"ID\"]\n",
    "    fpath = './'+tid+\"/fitbit_data/\"+fname\n",
    "    return fpath"
   ]
  },
  {
   "cell_type": "code",
   "execution_count": null,
   "metadata": {},
   "outputs": [],
   "source": [
    "data[\"hr_path\"] = data.apply(get_hr_path, axis=1)\n",
    "data_arr = []\n",
    "for i in list(data[\"hr_path\"]):\n",
    "    try:\n",
    "        if os.path.exists(i):\n",
    "            data_arr.append(get_hr_data(i))\n",
    "            print(\"Success\")\n",
    "        else:\n",
    "            print(\"File not found\")\n",
    "    except Exception as e:\n",
    "        print(\"Error: \"+str(e))\n",
    "\n",
    "        continue"
   ]
  },
  {
   "cell_type": "code",
   "execution_count": null,
   "metadata": {},
   "outputs": [],
   "source": [
    "def get_audio_img(path):\n",
    "    cols = [\"mfcc[1]\",\"mfcc[2]\",\"mfcc[3]\",\"mfcc[4]\",\"mfcc[5]\",\"mfcc[6]\",\"mfcc[7]\",\"mfcc[8]\",\"mfcc[9]\",\"mfcc[10]\",\"mfcc[11]\",\"mfcc[12]\"]\n",
    "    data = pd.read_csv(path,sep=';',usecols=cols)\n",
    "    mfcc_image = data.to_numpy()\n",
    "    mfcc_image = mfcc_image / np.max(mfcc_image)\n",
    "    mfcc_image = np.resize(mfcc_image, (224, 224))\n",
    "    return mfcc_image"
   ]
  },
  {
   "cell_type": "code",
   "execution_count": null,
   "metadata": {},
   "outputs": [],
   "source": [
    "def get_audio_path(x):\n",
    "    t_d = x[\"Timestamp\"].strftime('%Y-%m-%d')\n",
    "    t_t = x[\"Timestamp\"].strftime('%H-%M-%S')\n",
    "    root_path = \"./\"+x[\"ID\"]+\"/audio/\"+t_d+\"/csv/\"\n",
    "    \n",
    "    fnames = os.listdir(root_path)\n",
    "    target_timestamp = datetime.datetime.strptime(t_t, '%H-%M-%S')\n",
    "    print(target_timestamp)\n",
    "    fnames.remove('.DS_Store')\n",
    "    print(datetime.datetime.strptime(fnames[0].split('_')[-1][:-4], '%H-%M-%S'))\n",
    "    ts = [datetime.datetime.strptime(i.split('_')[-1][:-4], '%H-%M-%S') for i in fnames]\n",
    "    closest_timestamp = min(ts, key=lambda x: abs(x - target_timestamp))\n",
    "    print(closest_timestamp)\n",
    "    \n",
    "    fpath = root_path+(fnames[ts.index(closest_timestamp)])\n",
    "    return fpath"
   ]
  },
  {
   "cell_type": "code",
   "execution_count": null,
   "metadata": {},
   "outputs": [],
   "source": [
    "data[\"audio_path\"] = data.apply(get_audio_path, axis=1)"
   ]
  },
  {
   "cell_type": "code",
   "execution_count": null,
   "metadata": {},
   "outputs": [],
   "source": [
    "path = \"./ID104/audio/2023-08-14/csv/audio_C300000A0E84_18-01-36.csv\"\n",
    "mfcc_im  = get_audio_img(path)"
   ]
  },
  {
   "cell_type": "code",
   "execution_count": null,
   "metadata": {},
   "outputs": [],
   "source": [
    "mfcc_im"
   ]
  },
  {
   "cell_type": "code",
   "execution_count": null,
   "metadata": {},
   "outputs": [],
   "source": []
  }
 ],
 "metadata": {
  "kernelspec": {
   "display_name": "Python 3",
   "language": "python",
   "name": "python3"
  },
  "language_info": {
   "codemirror_mode": {
    "name": "ipython",
    "version": 3
   },
   "file_extension": ".py",
   "mimetype": "text/x-python",
   "name": "python",
   "nbconvert_exporter": "python",
   "pygments_lexer": "ipython3",
   "version": "3.8.3"
  }
 },
 "nbformat": 4,
 "nbformat_minor": 2
}
